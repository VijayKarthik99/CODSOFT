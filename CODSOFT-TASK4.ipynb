{
 "cells": [
  {
   "cell_type": "markdown",
   "id": "88003209",
   "metadata": {},
   "source": [
    "**TASK-4**\n",
    "\n",
    "**RECOMMENDATION SYSTEM**"
   ]
  },
  {
   "cell_type": "code",
   "execution_count": 3,
   "id": "b49696ff",
   "metadata": {},
   "outputs": [],
   "source": [
    "import pandas as pd\n",
    "from sklearn.feature_extraction.text import TfidfVectorizer #tfidfvectorizer is to convert the words into integers for the predictions\n",
    "from sklearn.metrics.pairwise import linear_kernel"
   ]
  },
  {
   "cell_type": "code",
   "execution_count": 4,
   "id": "9d9b18ae",
   "metadata": {},
   "outputs": [
    {
     "data": {
      "text/html": [
       "<div>\n",
       "<style scoped>\n",
       "    .dataframe tbody tr th:only-of-type {\n",
       "        vertical-align: middle;\n",
       "    }\n",
       "\n",
       "    .dataframe tbody tr th {\n",
       "        vertical-align: top;\n",
       "    }\n",
       "\n",
       "    .dataframe thead th {\n",
       "        text-align: right;\n",
       "    }\n",
       "</style>\n",
       "<table border=\"1\" class=\"dataframe\">\n",
       "  <thead>\n",
       "    <tr style=\"text-align: right;\">\n",
       "      <th></th>\n",
       "      <th>movieId</th>\n",
       "      <th>title</th>\n",
       "      <th>genres</th>\n",
       "    </tr>\n",
       "  </thead>\n",
       "  <tbody>\n",
       "    <tr>\n",
       "      <th>0</th>\n",
       "      <td>1</td>\n",
       "      <td>Toy Story (1995)</td>\n",
       "      <td>Adventure|Animation|Children|Comedy|Fantasy</td>\n",
       "    </tr>\n",
       "    <tr>\n",
       "      <th>1</th>\n",
       "      <td>2</td>\n",
       "      <td>Jumanji (1995)</td>\n",
       "      <td>Adventure|Children|Fantasy</td>\n",
       "    </tr>\n",
       "    <tr>\n",
       "      <th>2</th>\n",
       "      <td>3</td>\n",
       "      <td>Grumpier Old Men (1995)</td>\n",
       "      <td>Comedy|Romance</td>\n",
       "    </tr>\n",
       "    <tr>\n",
       "      <th>3</th>\n",
       "      <td>4</td>\n",
       "      <td>Waiting to Exhale (1995)</td>\n",
       "      <td>Comedy|Drama|Romance</td>\n",
       "    </tr>\n",
       "    <tr>\n",
       "      <th>4</th>\n",
       "      <td>5</td>\n",
       "      <td>Father of the Bride Part II (1995)</td>\n",
       "      <td>Comedy</td>\n",
       "    </tr>\n",
       "    <tr>\n",
       "      <th>...</th>\n",
       "      <td>...</td>\n",
       "      <td>...</td>\n",
       "      <td>...</td>\n",
       "    </tr>\n",
       "    <tr>\n",
       "      <th>9737</th>\n",
       "      <td>193581</td>\n",
       "      <td>Black Butler: Book of the Atlantic (2017)</td>\n",
       "      <td>Action|Animation|Comedy|Fantasy</td>\n",
       "    </tr>\n",
       "    <tr>\n",
       "      <th>9738</th>\n",
       "      <td>193583</td>\n",
       "      <td>No Game No Life: Zero (2017)</td>\n",
       "      <td>Animation|Comedy|Fantasy</td>\n",
       "    </tr>\n",
       "    <tr>\n",
       "      <th>9739</th>\n",
       "      <td>193585</td>\n",
       "      <td>Flint (2017)</td>\n",
       "      <td>Drama</td>\n",
       "    </tr>\n",
       "    <tr>\n",
       "      <th>9740</th>\n",
       "      <td>193587</td>\n",
       "      <td>Bungo Stray Dogs: Dead Apple (2018)</td>\n",
       "      <td>Action|Animation</td>\n",
       "    </tr>\n",
       "    <tr>\n",
       "      <th>9741</th>\n",
       "      <td>193609</td>\n",
       "      <td>Andrew Dice Clay: Dice Rules (1991)</td>\n",
       "      <td>Comedy</td>\n",
       "    </tr>\n",
       "  </tbody>\n",
       "</table>\n",
       "<p>9742 rows × 3 columns</p>\n",
       "</div>"
      ],
      "text/plain": [
       "      movieId                                      title  \\\n",
       "0           1                           Toy Story (1995)   \n",
       "1           2                             Jumanji (1995)   \n",
       "2           3                    Grumpier Old Men (1995)   \n",
       "3           4                   Waiting to Exhale (1995)   \n",
       "4           5         Father of the Bride Part II (1995)   \n",
       "...       ...                                        ...   \n",
       "9737   193581  Black Butler: Book of the Atlantic (2017)   \n",
       "9738   193583               No Game No Life: Zero (2017)   \n",
       "9739   193585                               Flint (2017)   \n",
       "9740   193587        Bungo Stray Dogs: Dead Apple (2018)   \n",
       "9741   193609        Andrew Dice Clay: Dice Rules (1991)   \n",
       "\n",
       "                                           genres  \n",
       "0     Adventure|Animation|Children|Comedy|Fantasy  \n",
       "1                      Adventure|Children|Fantasy  \n",
       "2                                  Comedy|Romance  \n",
       "3                            Comedy|Drama|Romance  \n",
       "4                                          Comedy  \n",
       "...                                           ...  \n",
       "9737              Action|Animation|Comedy|Fantasy  \n",
       "9738                     Animation|Comedy|Fantasy  \n",
       "9739                                        Drama  \n",
       "9740                             Action|Animation  \n",
       "9741                                       Comedy  \n",
       "\n",
       "[9742 rows x 3 columns]"
      ]
     },
     "execution_count": 4,
     "metadata": {},
     "output_type": "execute_result"
    }
   ],
   "source": [
    "movies = pd.read_csv('movies.csv')\n",
    "movies"
   ]
  },
  {
   "cell_type": "code",
   "execution_count": 5,
   "id": "30599aa4",
   "metadata": {},
   "outputs": [
    {
     "name": "stderr",
     "output_type": "stream",
     "text": [
      "C:\\Users\\jakku\\AppData\\Local\\Temp\\ipykernel_14744\\338433615.py:1: FutureWarning: The default value of regex will change from True to False in a future version. In addition, single character regular expressions will *not* be treated as literal strings when regex=True.\n",
      "  movies['genres'] = movies['genres'].str.replace('|', ' ')\n"
     ]
    }
   ],
   "source": [
    "movies['genres'] = movies['genres'].str.replace('|', ' ')\n"
   ]
  },
  {
   "cell_type": "code",
   "execution_count": 6,
   "id": "7839cbef",
   "metadata": {},
   "outputs": [],
   "source": [
    "tfidf_vectorizer = TfidfVectorizer(stop_words='english')\n",
    "tfidf_matrix = tfidf_vectorizer.fit_transform(movies['genres'])\n",
    " "
   ]
  },
  {
   "cell_type": "code",
   "execution_count": 7,
   "id": "bfb34aea",
   "metadata": {},
   "outputs": [],
   "source": [
    "cosine_sim = linear_kernel(tfidf_matrix, tfidf_matrix)\n"
   ]
  },
  {
   "cell_type": "code",
   "execution_count": 8,
   "id": "2e2683d2",
   "metadata": {},
   "outputs": [],
   "source": [
    "def recommend_movies_by_genre(user_genres, top_n=5, recommended_movie_ids=None):\n",
    "    user_genres_str = ' '.join(user_genres)\n",
    "    user_genres_tfidf = tfidf_vectorizer.transform([user_genres_str])\n",
    "    \n",
    "\n",
    "    genre_similarity = linear_kernel(user_genres_tfidf, tfidf_matrix)\n",
    "    \n",
    "\n",
    "    similar_movies_indices = genre_similarity[0].argsort()[::-1]\n",
    "    \n",
    "\n",
    "    top_movie_indices = [idx for idx in similar_movies_indices if idx not in recommended_movie_ids]\n",
    "    recommended_movies = movies.iloc[top_movie_indices[:top_n]]\n",
    "    recommended_movie_ids.extend(recommended_movies.index)\n",
    "    \n",
    "    return recommended_movies "
   ]
  },
  {
   "cell_type": "code",
   "execution_count": 10,
   "id": "a19bb0cb",
   "metadata": {},
   "outputs": [
    {
     "name": "stdout",
     "output_type": "stream",
     "text": [
      "User Input: romance\n",
      "Recommended Movies:\n",
      "      movieId                               title   genres\n",
      "1745     2340               Meet Joe Black (1998)  Romance\n",
      "1140     1493  Love and Other Catastrophes (1996)  Romance\n",
      "1151     1514    Temptress Moon (Feng Yue) (1996)  Romance\n",
      "5601    26958                         Emma (1996)  Romance\n",
      "541       638               Jack and Sarah (1995)  Romance\n",
      "Do you want to enter another set of genres? (yes/no): yes\n",
      "User Input: action\n",
      "Recommended Movies:\n",
      "      movieId                                              title  genres\n",
      "555       667  Bloodsport 2 (a.k.a. Bloodsport II: The Next K...  Action\n",
      "2821     3769                   Thunderbolt and Lightfoot (1974)  Action\n",
      "63         71                                   Fair Game (1995)  Action\n",
      "8558   116169                          Reign of Assassins (2010)  Action\n",
      "8720   126420                              American Heist (2015)  Action\n",
      "Do you want to enter another set of genres? (yes/no): yes\n",
      "User Input: comedy\n",
      "Recommended Movies:\n",
      "      movieId                                title  genres\n",
      "9741   193609  Andrew Dice Clay: Dice Rules (1991)  Comedy\n",
      "1352     1839                      My Giant (1998)  Comedy\n",
      "3426     4666                     Skin Deep (1989)  Comedy\n",
      "3425     4663          She's Out of Control (1989)  Comedy\n",
      "7685    89388  I Don't Know How She Does It (2011)  Comedy\n",
      "Do you want to enter another set of genres? (yes/no): no\n"
     ]
    }
   ],
   "source": [
    "recommended_movie_ids = []\n",
    "while True:\n",
    "    \n",
    "    user_input = input(\"User Input: \")\n",
    "    user_genres = user_input.split(', ')\n",
    "    \n",
    "    recommendations = recommend_movies_by_genre(user_genres, recommended_movie_ids=recommended_movie_ids)\n",
    "    \n",
    "    if recommendations.empty:\n",
    "        print(\"No new recommendations found for the provided genres.\")\n",
    "    else:\n",
    "        print(\"Recommended Movies:\")\n",
    "        print(recommendations)\n",
    "    \n",
    "    repeat = input(\"Do you want to enter another set of genres? (yes/no): \").lower()\n",
    "    if repeat != 'yes':\n",
    "        break"
   ]
  }
 ],
 "metadata": {
  "kernelspec": {
   "display_name": "Python 3 (ipykernel)",
   "language": "python",
   "name": "python3"
  },
  "language_info": {
   "codemirror_mode": {
    "name": "ipython",
    "version": 3
   },
   "file_extension": ".py",
   "mimetype": "text/x-python",
   "name": "python",
   "nbconvert_exporter": "python",
   "pygments_lexer": "ipython3",
   "version": "3.9.13"
  }
 },
 "nbformat": 4,
 "nbformat_minor": 5
}
